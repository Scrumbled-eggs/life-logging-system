{
 "cells": [
  {
   "cell_type": "markdown",
   "metadata": {},
   "source": [
    "https://github.com/timesler/facenet-pytorch/blob/master/examples/finetune.ipynb "
   ]
  },
  {
   "cell_type": "code",
   "execution_count": 109,
   "metadata": {},
   "outputs": [
    {
     "data": {
      "text/html": [
       "Finishing last run (ID:1bhgnx8f) before initializing another..."
      ],
      "text/plain": [
       "<IPython.core.display.HTML object>"
      ]
     },
     "metadata": {},
     "output_type": "display_data"
    },
    {
     "data": {
      "text/html": [
       "Waiting for W&B process to finish... <strong style=\"color:green\">(success).</strong>"
      ],
      "text/plain": [
       "<IPython.core.display.HTML object>"
      ]
     },
     "metadata": {},
     "output_type": "display_data"
    },
    {
     "data": {
      "text/html": [
       "<style>\n",
       "    table.wandb td:nth-child(1) { padding: 0 10px; text-align: left ; width: auto;} td:nth-child(2) {text-align: left ; width: 100%}\n",
       "    .wandb-row { display: flex; flex-direction: row; flex-wrap: wrap; justify-content: flex-start; width: 100% }\n",
       "    .wandb-col { display: flex; flex-direction: column; flex-basis: 100%; flex: 1; padding: 10px; }\n",
       "    </style>\n",
       "<div class=\"wandb-row\"><div class=\"wandb-col\"><h3>Run history:</h3><br/><table class=\"wandb\"><tr><td>f1</td><td>▁▃▃▄▅▆▇▇██</td></tr><tr><td>loss</td><td>█▆▆▅▄▃▂▂▁▁</td></tr><tr><td>precision</td><td>▁▂▃▃▄▆▇▇██</td></tr><tr><td>val_f1</td><td>▁▇▇▇▇▇█████</td></tr><tr><td>val_loss</td><td>█▂▂▂▂▂▁▁▁▁▁</td></tr><tr><td>val_precision</td><td>▁█▇▇▇▇█████</td></tr></table><br/></div><div class=\"wandb-col\"><h3>Run summary:</h3><br/><table class=\"wandb\"><tr><td>f1</td><td>0.958</td></tr><tr><td>loss</td><td>0.05721</td></tr><tr><td>precision</td><td>0.973</td></tr><tr><td>val_f1</td><td>0.79</td></tr><tr><td>val_loss</td><td>0.22376</td></tr><tr><td>val_precision</td><td>0.829</td></tr></table><br/></div></div>"
      ],
      "text/plain": [
       "<IPython.core.display.HTML object>"
      ]
     },
     "metadata": {},
     "output_type": "display_data"
    },
    {
     "data": {
      "text/html": [
       "Synced <strong style=\"color:#cdcd00\">clean-moon-6</strong>: <a href=\"https://wandb.ai/dain5832/milestone2_resnet34/runs/1bhgnx8f\" target=\"_blank\">https://wandb.ai/dain5832/milestone2_resnet34/runs/1bhgnx8f</a><br/>Synced 6 W&B file(s), 0 media file(s), 0 artifact file(s) and 0 other file(s)"
      ],
      "text/plain": [
       "<IPython.core.display.HTML object>"
      ]
     },
     "metadata": {},
     "output_type": "display_data"
    },
    {
     "data": {
      "text/html": [
       "Find logs at: <code>./wandb/run-20220617_165536-1bhgnx8f/logs</code>"
      ],
      "text/plain": [
       "<IPython.core.display.HTML object>"
      ]
     },
     "metadata": {},
     "output_type": "display_data"
    },
    {
     "data": {
      "text/html": [
       "Successfully finished last run (ID:1bhgnx8f). Initializing new run:<br/>"
      ],
      "text/plain": [
       "<IPython.core.display.HTML object>"
      ]
     },
     "metadata": {},
     "output_type": "display_data"
    },
    {
     "data": {
      "text/html": [
       "Tracking run with wandb version 0.12.18"
      ],
      "text/plain": [
       "<IPython.core.display.HTML object>"
      ]
     },
     "metadata": {},
     "output_type": "display_data"
    },
    {
     "data": {
      "text/html": [
       "Run data is saved locally in <code>/home/dain5832/cmu/summer/wandb/run-20220617_170606-36ifhcpj</code>"
      ],
      "text/plain": [
       "<IPython.core.display.HTML object>"
      ]
     },
     "metadata": {},
     "output_type": "display_data"
    },
    {
     "data": {
      "text/html": [
       "Syncing run <strong><a href=\"https://wandb.ai/dain5832/milestone2_resnet34/runs/36ifhcpj\" target=\"_blank\">hopeful-frost-7</a></strong> to <a href=\"https://wandb.ai/dain5832/milestone2_resnet34\" target=\"_blank\">Weights & Biases</a> (<a href=\"https://wandb.me/run\" target=\"_blank\">docs</a>)<br/>"
      ],
      "text/plain": [
       "<IPython.core.display.HTML object>"
      ]
     },
     "metadata": {},
     "output_type": "display_data"
    },
    {
     "data": {
      "text/html": [
       "<button onClick=\"this.nextSibling.style.display='block';this.style.display='none';\">Display W&B run</button><iframe src=\"https://wandb.ai/dain5832/milestone2_resnet34/runs/36ifhcpj?jupyter=true\" style=\"border:none;width:100%;height:420px;display:none;\"></iframe>"
      ],
      "text/plain": [
       "<wandb.sdk.wandb_run.Run at 0x7fab2dd2bbe0>"
      ]
     },
     "execution_count": 109,
     "metadata": {},
     "output_type": "execute_result"
    }
   ],
   "source": [
    "from facenet_pytorch import MTCNN, InceptionResnetV1, fixed_image_standardization, training\n",
    "import torch\n",
    "from torch import nn\n",
    "from torch.utils.data import DataLoader, SubsetRandomSampler\n",
    "from torch import optim\n",
    "from torch.optim.lr_scheduler import MultiStepLR\n",
    "from torch.utils.tensorboard import SummaryWriter\n",
    "from torchvision import datasets, transforms, models\n",
    "import numpy as np\n",
    "import os\n",
    "\n",
    "from sklearn.metrics import accuracy_score,f1_score,precision_score\n",
    "from torchsummaryX import summary\n",
    "os.environ[\"CUDA_VISIBLE_DEVICES\"] = '2'\n",
    "\n",
    "import wandb\n",
    "\n",
    "wandb.init(project=\"milestone2_resnet34\")"
   ]
  },
  {
   "cell_type": "code",
   "execution_count": 111,
   "metadata": {},
   "outputs": [],
   "source": [
    "#data_dir = './data/lfw'\n",
    "data_dir = '/data_seoul/dain5832/cmu/summer/celebA/celeba'\n",
    "\n",
    "batch_size = 128\n",
    "epochs = 10\n",
    "workers = 0 if os.name == 'nt' else 8\n",
    "\n",
    "wandb.config.batch_size = batch_size\n",
    "wandb.config.epochs = epochs"
   ]
  },
  {
   "cell_type": "code",
   "execution_count": 112,
   "metadata": {},
   "outputs": [
    {
     "name": "stdout",
     "output_type": "stream",
     "text": [
      "Running on device: cuda:0\n"
     ]
    }
   ],
   "source": [
    "device = torch.device('cuda:0' if torch.cuda.is_available() else 'cpu')\n",
    "print('Running on device: {}'.format(device))"
   ]
  },
  {
   "cell_type": "markdown",
   "metadata": {},
   "source": [
    "## InceptionResnetV1"
   ]
  },
  {
   "cell_type": "code",
   "execution_count": 113,
   "metadata": {},
   "outputs": [],
   "source": [
    "class InceptionResnetV1_multilabel(nn.Module):\n",
    "    def __init__(self, n_classes):\n",
    "        super().__init__()\n",
    "        #self.resnet = InceptionResnetV1(\n",
    "        #    classify=True,\n",
    "        #    pretrained='vggface2',\n",
    "        #    num_classes=n_classes\n",
    "        #)\n",
    "        self.resnet = models.resnet34(pretrained=True)\n",
    "        num_ftrs = self.resnet.fc.in_features\n",
    "        self.resnet.fc = nn.Linear(num_ftrs, n_classes)\n",
    "\n",
    "    def forward(self, x):\n",
    "        return self.resnet(x)\n",
    "\n",
    "# Initialize the model\n",
    "model = InceptionResnetV1_multilabel(40).to(device)"
   ]
  },
  {
   "cell_type": "code",
   "execution_count": 114,
   "metadata": {},
   "outputs": [],
   "source": [
    "optimizer = optim.Adam(model.parameters(), lr=0.001, weight_decay=1.2e-6)\n",
    "scheduler = MultiStepLR(optimizer, [5, 10])\n",
    "\n",
    "wandb.config.lr = 0.001\n",
    "wandb.config.optim = 'Adam'\n",
    "wandb.config.weight_decay = 1.2e-6\n",
    "\n",
    "trans = transforms.Compose([\n",
    "    np.float32,\n",
    "    transforms.ToTensor(),\n",
    "    fixed_image_standardization\n",
    "])\n",
    "#dataset = datasets.ImageFolder(data_dir + '_cropped', transform=trans)\n",
    "dataset = datasets.CelebA(root='/data_seoul/dain5832/cmu/summer/celebA', split='valid', target_type='attr', transform=trans)\n",
    "\n",
    "img_inds = np.arange(len(dataset))\n",
    "np.random.shuffle(img_inds)\n",
    "train_inds = img_inds[:int(0.8 * len(img_inds))]\n",
    "val_inds = img_inds[int(0.8 * len(img_inds)):]\n",
    "\n",
    "train_loader = DataLoader(\n",
    "    dataset,\n",
    "    num_workers=workers,\n",
    "    batch_size=batch_size,\n",
    "    sampler=SubsetRandomSampler(train_inds)\n",
    ")\n",
    "val_loader = DataLoader(\n",
    "    dataset,\n",
    "    num_workers=workers,\n",
    "    batch_size=batch_size,\n",
    "    sampler=SubsetRandomSampler(val_inds)\n",
    ")"
   ]
  },
  {
   "cell_type": "code",
   "execution_count": 115,
   "metadata": {},
   "outputs": [],
   "source": [
    "loss_fn = torch.nn.BCEWithLogitsLoss()\n",
    "metrics = {\n",
    "    \n",
    "}"
   ]
  },
  {
   "cell_type": "code",
   "execution_count": 116,
   "metadata": {},
   "outputs": [],
   "source": [
    "def pass_epoch(\n",
    "    model, loss_fn, loader, optimizer=None, scheduler=None,\n",
    "    batch_metrics={}, show_running=True,\n",
    "    device='cpu', writer=None\n",
    "):\n",
    "    \"\"\"Train or evaluate over a data epoch.\n",
    "    \n",
    "    Arguments:\n",
    "        model {torch.nn.Module} -- Pytorch model.\n",
    "        loss_fn {callable} -- A function to compute (scalar) loss.\n",
    "        loader {torch.utils.data.DataLoader} -- A pytorch data loader.\n",
    "    \n",
    "    Keyword Arguments:\n",
    "        optimizer {torch.optim.Optimizer} -- A pytorch optimizer.\n",
    "        scheduler {torch.optim.lr_scheduler._LRScheduler} -- LR scheduler (default: {None})\n",
    "        batch_metrics {dict} -- Dictionary of metric functions to call on each batch. The default\n",
    "            is a simple timer. A progressive average of these metrics, along with the average\n",
    "            loss, is printed every batch. (default: {{'time': iter_timer()}})\n",
    "        show_running {bool} -- Whether or not to print losses and metrics for the current batch\n",
    "            or rolling averages. (default: {False})\n",
    "        device {str or torch.device} -- Device for pytorch to use. (default: {'cpu'})\n",
    "        writer {torch.utils.tensorboard.SummaryWriter} -- Tensorboard SummaryWriter. (default: {None})\n",
    "    \n",
    "    Returns:\n",
    "        tuple(torch.Tensor, dict) -- A tuple of the average loss and a dictionary of average\n",
    "            metric values across the epoch.\n",
    "    \"\"\"\n",
    "    \n",
    "    mode = 'Train' if model.training else 'Valid'\n",
    "    logger = training.Logger(mode, length=len(loader), calculate_mean=show_running)\n",
    "    loss = 0\n",
    "    metrics = {}\n",
    "    history = {'loss':[], 'f1':[], 'acc':[], 'precision':[], 'val_loss':[], 'val_f1':[], 'val_acc':[], 'val_precision':[]}\n",
    "    y_preds, targets = [], []\n",
    "    for i_batch, (x, y) in enumerate(loader):\n",
    "        x = x.to(device)\n",
    "        y = y.to(device)\n",
    "        y_pred = model(x)\n",
    "        prediction=torch.round(torch.sigmoid(y_pred))\n",
    "        y_preds.append(prediction.detach().cpu())\n",
    "        targets.append(y.detach().cpu())\n",
    "        loss_batch = loss_fn(y_pred.to(torch.float32), y.to(torch.float32))\n",
    "\n",
    "        if model.training:\n",
    "            loss_batch.backward()\n",
    "            optimizer.step()\n",
    "            optimizer.zero_grad()\n",
    "\n",
    "        metrics_batch = {}\n",
    "        for metric_name, metric_fn in batch_metrics.items():\n",
    "            if metric_name == 'fps':\n",
    "                metrics_batch[metric_name] = metric_fn(y_pred.detach().cpu().numpy(), y.detach().cpu().numpy()).detach().cpu()\n",
    "                metrics[metric_name] = metrics.get(metric_name, 0) + metrics_batch[metric_name]\n",
    "            else:\n",
    "                threshold = 0.5\n",
    "                y_pred = np.array(y_pred.detach().cpu().numpy() > threshold, dtype=float)\n",
    "                #print(y_pred)\n",
    "                #print(y)\n",
    "                metrics_batch[metric_name] = metric_fn(y_pred.astype(int), y.detach().cpu().numpy().astype(int))\n",
    "                metrics[metric_name] = metrics.get(metric_name, 0) + metrics_batch[metric_name]\n",
    "        \n",
    "        if writer is not None and model.training:\n",
    "            if writer.iteration % writer.interval == 0:\n",
    "                writer.add_scalars('loss', {mode: loss_batch.detach().cpu()}, writer.iteration)\n",
    "                for metric_name, metric_batch in metrics_batch.items():\n",
    "                    writer.add_scalars(metric_name, {mode: metric_batch}, writer.iteration)\n",
    "            writer.iteration += 1\n",
    "        \n",
    "        loss_batch = loss_batch.detach().cpu()\n",
    "        loss += loss_batch\n",
    "        if show_running:\n",
    "            logger(loss, metrics, i_batch)\n",
    "        else:\n",
    "            logger(loss_batch, metrics_batch, i_batch)\n",
    "    \n",
    "    if model.training and scheduler is not None:\n",
    "        scheduler.step()\n",
    "\n",
    "    loss = loss / (i_batch + 1)\n",
    "    metrics = {k: v / (i_batch + 1) for k, v in metrics.items()}\n",
    "    f1=round(f1_score(torch.cat(targets,dim=0).numpy(),torch.cat(y_preds,dim=0).numpy(),average='samples'), 3)\n",
    "    acc=round(accuracy_score(torch.cat(targets,dim=0).numpy(),torch.cat(y_preds,dim=0).numpy()), 3)\n",
    "    precision = round(precision_score(torch.cat(targets,dim=0).numpy(),torch.cat(y_preds,dim=0).numpy(),average='samples'), 3)\n",
    "    \n",
    "    print('f1score:', f1)\n",
    "    print('precision:', precision)\n",
    "    if model.training:\n",
    "        history['loss'].append(loss)\n",
    "        history['f1'].append(f1)\n",
    "        history['acc'].append(acc)\n",
    "        history['precision'].append(precision)\n",
    "        wandb.log({\"loss\": loss, \"f1\": f1, \"precision\":precision})\n",
    "\n",
    "    else:\n",
    "        history['val_loss'].append(loss)\n",
    "        history['val_f1'].append(f1)\n",
    "        history['val_acc'].append(acc)\n",
    "        history['val_precision'].append(precision)\n",
    "        wandb.log({\"val_loss\": loss, \"val_f1\": f1, \"val_precision\":precision})\n",
    "    \n",
    "    if writer is not None and not model.training:\n",
    "        writer.add_scalars('loss', {mode: loss.detach()}, writer.iteration)\n",
    "        for metric_name, metric in metrics.items():\n",
    "            writer.add_scalars(metric_name, {mode: metric})\n",
    "\n",
    "    return loss, metrics, history"
   ]
  },
  {
   "cell_type": "code",
   "execution_count": 117,
   "metadata": {},
   "outputs": [
    {
     "name": "stdout",
     "output_type": "stream",
     "text": [
      "\n",
      "\n",
      "Initial\n",
      "----------\n",
      "Valid |    32/32   | loss:    0.7602 |    \n",
      "f1score: 0.325\n",
      "precision: 0.228\n",
      "\n",
      "Epoch 1/10\n",
      "----------\n",
      "Train |   125/125  | loss:    0.2558 |    \n",
      "f1score: 0.702\n",
      "precision: 0.81\n",
      "Valid |    32/32   | loss:    0.2769 |    \n",
      "f1score: 0.707\n",
      "precision: 0.733\n",
      "\n",
      "Epoch 2/10\n",
      "----------\n",
      "Train |   125/125  | loss:    0.2080 |    \n",
      "f1score: 0.761\n",
      "precision: 0.842\n",
      "Valid |    32/32   | loss:    0.2382 |    \n",
      "f1score: 0.745\n",
      "precision: 0.773\n",
      "\n",
      "Epoch 3/10\n",
      "----------\n",
      "Train |   125/125  | loss:    0.1886 |    \n",
      "f1score: 0.787\n",
      "precision: 0.855\n",
      "Valid |    32/32   | loss:    0.2197 |    \n",
      "f1score: 0.752\n",
      "precision: 0.833\n",
      "\n",
      "Epoch 4/10\n",
      "----------\n",
      "Train |   125/125  | loss:    0.1719 |    \n",
      "f1score: 0.809\n",
      "precision: 0.868\n",
      "Valid |    32/32   | loss:    0.2271 |    \n",
      "f1score: 0.752\n",
      "precision: 0.793\n",
      "\n",
      "Epoch 5/10\n",
      "----------\n",
      "Train |   125/125  | loss:    0.1546 |    \n",
      "f1score: 0.831\n",
      "precision: 0.88\n",
      "Valid |    32/32   | loss:    0.2238 |    \n",
      "f1score: 0.77\n",
      "precision: 0.783\n",
      "\n",
      "Epoch 6/10\n",
      "----------\n",
      "Train |   125/125  | loss:    0.1149 |    \n",
      "f1score: 0.883\n",
      "precision: 0.922\n",
      "Valid |    32/32   | loss:    0.1921 |    \n",
      "f1score: 0.788\n",
      "precision: 0.851\n",
      "\n",
      "Epoch 7/10\n",
      "----------\n",
      "Train |   125/125  | loss:    0.0971 |    \n",
      "f1score: 0.908\n",
      "precision: 0.94\n",
      "Valid |    32/32   | loss:    0.1997 |    \n",
      "f1score: 0.792\n",
      "precision: 0.84\n",
      "\n",
      "Epoch 8/10\n",
      "----------\n",
      "Train |   125/125  | loss:    0.0837 |    \n",
      "f1score: 0.925\n",
      "precision: 0.952\n",
      "Valid |    32/32   | loss:    0.2058 |    \n",
      "f1score: 0.79\n",
      "precision: 0.834\n",
      "\n",
      "Epoch 9/10\n",
      "----------\n",
      "Train |   125/125  | loss:    0.0707 |    \n",
      "f1score: 0.942\n",
      "precision: 0.963\n",
      "Valid |    32/32   | loss:    0.2166 |    \n",
      "f1score: 0.788\n",
      "precision: 0.827\n",
      "\n",
      "Epoch 10/10\n",
      "----------\n",
      "Train |   125/125  | loss:    0.0580 |    \n",
      "f1score: 0.958\n",
      "precision: 0.973\n",
      "Valid |    32/32   | loss:    0.2256 |    \n",
      "f1score: 0.784\n",
      "precision: 0.83\n"
     ]
    }
   ],
   "source": [
    "writer = SummaryWriter()\n",
    "writer.iteration, writer.interval = 0, 10\n",
    "\n",
    "print('\\n\\nInitial')\n",
    "print('-' * 10)\n",
    "model.eval()\n",
    "pass_epoch(\n",
    "    model, loss_fn, val_loader,\n",
    "    batch_metrics=metrics, show_running=True, device=device,\n",
    "    writer=writer\n",
    ")\n",
    "\n",
    "epochs = 10\n",
    "for epoch in range(epochs):\n",
    "    print('\\nEpoch {}/{}'.format(epoch + 1, epochs))\n",
    "    print('-' * 10)\n",
    "\n",
    "    model.train()\n",
    "    pass_epoch(\n",
    "        model, loss_fn, train_loader, optimizer, scheduler,\n",
    "        batch_metrics=metrics, show_running=True, device=device,\n",
    "        writer=writer\n",
    "    )\n",
    "\n",
    "    model.eval()\n",
    "    pass_epoch(\n",
    "        model, loss_fn, val_loader,\n",
    "        batch_metrics=metrics, show_running=True, device=device,\n",
    "        writer=writer\n",
    "    )\n",
    "    torch.save(model.state_dict(), 'model_{}.pth'.format(epoch))\n",
    "\n",
    "writer.close()"
   ]
  },
  {
   "cell_type": "markdown",
   "metadata": {},
   "source": [
    "## Test"
   ]
  },
  {
   "cell_type": "code",
   "execution_count": 76,
   "metadata": {},
   "outputs": [],
   "source": [
    "\n",
    "trans = transforms.Compose([\n",
    "    np.float32,\n",
    "    transforms.ToTensor(),\n",
    "    fixed_image_standardization\n",
    "])\n",
    "#dataset = datasets.ImageFolder(data_dir + '_cropped', transform=trans)\n",
    "dataset = datasets.CelebA(root='/data_seoul/dain5832/cmu/summer/celebA', split='test', target_type='attr', transform=trans)\n",
    "\n",
    "img_inds = np.arange(len(dataset))\n",
    "np.random.shuffle(img_inds)\n",
    "\n",
    "test_loader = DataLoader(\n",
    "    dataset,\n",
    "    num_workers=workers,\n",
    "    batch_size=batch_size,\n",
    "    sampler=SubsetRandomSampler(img_inds)\n",
    ")"
   ]
  },
  {
   "cell_type": "code",
   "execution_count": 14,
   "metadata": {},
   "outputs": [
    {
     "data": {
      "text/html": [
       "<div>\n",
       "<style scoped>\n",
       "    .dataframe tbody tr th:only-of-type {\n",
       "        vertical-align: middle;\n",
       "    }\n",
       "\n",
       "    .dataframe tbody tr th {\n",
       "        vertical-align: top;\n",
       "    }\n",
       "\n",
       "    .dataframe thead th {\n",
       "        text-align: right;\n",
       "    }\n",
       "</style>\n",
       "<table border=\"1\" class=\"dataframe\">\n",
       "  <thead>\n",
       "    <tr style=\"text-align: right;\">\n",
       "      <th></th>\n",
       "      <th>5_o_Clock_Shadow</th>\n",
       "      <th>Arched_Eyebrows</th>\n",
       "      <th>Attractive</th>\n",
       "      <th>Bags_Under_Eyes</th>\n",
       "      <th>Bald</th>\n",
       "      <th>Bangs</th>\n",
       "      <th>Big_Lips</th>\n",
       "      <th>Big_Nose</th>\n",
       "      <th>Black_Hair</th>\n",
       "      <th>Blond_Hair</th>\n",
       "      <th>...</th>\n",
       "      <th>Sideburns</th>\n",
       "      <th>Smiling</th>\n",
       "      <th>Straight_Hair</th>\n",
       "      <th>Wavy_Hair</th>\n",
       "      <th>Wearing_Earrings</th>\n",
       "      <th>Wearing_Hat</th>\n",
       "      <th>Wearing_Lipstick</th>\n",
       "      <th>Wearing_Necklace</th>\n",
       "      <th>Wearing_Necktie</th>\n",
       "      <th>Young</th>\n",
       "    </tr>\n",
       "  </thead>\n",
       "  <tbody>\n",
       "    <tr>\n",
       "      <th>000001.jpg</th>\n",
       "      <td>0</td>\n",
       "      <td>1</td>\n",
       "      <td>1</td>\n",
       "      <td>0</td>\n",
       "      <td>0</td>\n",
       "      <td>0</td>\n",
       "      <td>0</td>\n",
       "      <td>0</td>\n",
       "      <td>0</td>\n",
       "      <td>0</td>\n",
       "      <td>...</td>\n",
       "      <td>0</td>\n",
       "      <td>1</td>\n",
       "      <td>1</td>\n",
       "      <td>0</td>\n",
       "      <td>1</td>\n",
       "      <td>0</td>\n",
       "      <td>1</td>\n",
       "      <td>0</td>\n",
       "      <td>0</td>\n",
       "      <td>1</td>\n",
       "    </tr>\n",
       "    <tr>\n",
       "      <th>000002.jpg</th>\n",
       "      <td>0</td>\n",
       "      <td>0</td>\n",
       "      <td>0</td>\n",
       "      <td>1</td>\n",
       "      <td>0</td>\n",
       "      <td>0</td>\n",
       "      <td>0</td>\n",
       "      <td>1</td>\n",
       "      <td>0</td>\n",
       "      <td>0</td>\n",
       "      <td>...</td>\n",
       "      <td>0</td>\n",
       "      <td>1</td>\n",
       "      <td>0</td>\n",
       "      <td>0</td>\n",
       "      <td>0</td>\n",
       "      <td>0</td>\n",
       "      <td>0</td>\n",
       "      <td>0</td>\n",
       "      <td>0</td>\n",
       "      <td>1</td>\n",
       "    </tr>\n",
       "    <tr>\n",
       "      <th>000003.jpg</th>\n",
       "      <td>0</td>\n",
       "      <td>0</td>\n",
       "      <td>0</td>\n",
       "      <td>0</td>\n",
       "      <td>0</td>\n",
       "      <td>0</td>\n",
       "      <td>1</td>\n",
       "      <td>0</td>\n",
       "      <td>0</td>\n",
       "      <td>0</td>\n",
       "      <td>...</td>\n",
       "      <td>0</td>\n",
       "      <td>0</td>\n",
       "      <td>0</td>\n",
       "      <td>1</td>\n",
       "      <td>0</td>\n",
       "      <td>0</td>\n",
       "      <td>0</td>\n",
       "      <td>0</td>\n",
       "      <td>0</td>\n",
       "      <td>1</td>\n",
       "    </tr>\n",
       "    <tr>\n",
       "      <th>000004.jpg</th>\n",
       "      <td>0</td>\n",
       "      <td>0</td>\n",
       "      <td>1</td>\n",
       "      <td>0</td>\n",
       "      <td>0</td>\n",
       "      <td>0</td>\n",
       "      <td>0</td>\n",
       "      <td>0</td>\n",
       "      <td>0</td>\n",
       "      <td>0</td>\n",
       "      <td>...</td>\n",
       "      <td>0</td>\n",
       "      <td>0</td>\n",
       "      <td>1</td>\n",
       "      <td>0</td>\n",
       "      <td>1</td>\n",
       "      <td>0</td>\n",
       "      <td>1</td>\n",
       "      <td>1</td>\n",
       "      <td>0</td>\n",
       "      <td>1</td>\n",
       "    </tr>\n",
       "    <tr>\n",
       "      <th>000005.jpg</th>\n",
       "      <td>0</td>\n",
       "      <td>1</td>\n",
       "      <td>1</td>\n",
       "      <td>0</td>\n",
       "      <td>0</td>\n",
       "      <td>0</td>\n",
       "      <td>1</td>\n",
       "      <td>0</td>\n",
       "      <td>0</td>\n",
       "      <td>0</td>\n",
       "      <td>...</td>\n",
       "      <td>0</td>\n",
       "      <td>0</td>\n",
       "      <td>0</td>\n",
       "      <td>0</td>\n",
       "      <td>0</td>\n",
       "      <td>0</td>\n",
       "      <td>1</td>\n",
       "      <td>0</td>\n",
       "      <td>0</td>\n",
       "      <td>1</td>\n",
       "    </tr>\n",
       "  </tbody>\n",
       "</table>\n",
       "<p>5 rows × 40 columns</p>\n",
       "</div>"
      ],
      "text/plain": [
       "            5_o_Clock_Shadow  Arched_Eyebrows  Attractive  Bags_Under_Eyes  \\\n",
       "000001.jpg                 0                1           1                0   \n",
       "000002.jpg                 0                0           0                1   \n",
       "000003.jpg                 0                0           0                0   \n",
       "000004.jpg                 0                0           1                0   \n",
       "000005.jpg                 0                1           1                0   \n",
       "\n",
       "            Bald  Bangs  Big_Lips  Big_Nose  Black_Hair  Blond_Hair  ...  \\\n",
       "000001.jpg     0      0         0         0           0           0  ...   \n",
       "000002.jpg     0      0         0         1           0           0  ...   \n",
       "000003.jpg     0      0         1         0           0           0  ...   \n",
       "000004.jpg     0      0         0         0           0           0  ...   \n",
       "000005.jpg     0      0         1         0           0           0  ...   \n",
       "\n",
       "            Sideburns  Smiling  Straight_Hair  Wavy_Hair  Wearing_Earrings  \\\n",
       "000001.jpg          0        1              1          0                 1   \n",
       "000002.jpg          0        1              0          0                 0   \n",
       "000003.jpg          0        0              0          1                 0   \n",
       "000004.jpg          0        0              1          0                 1   \n",
       "000005.jpg          0        0              0          0                 0   \n",
       "\n",
       "            Wearing_Hat  Wearing_Lipstick  Wearing_Necklace  Wearing_Necktie  \\\n",
       "000001.jpg            0                 1                 0                0   \n",
       "000002.jpg            0                 0                 0                0   \n",
       "000003.jpg            0                 0                 0                0   \n",
       "000004.jpg            0                 1                 1                0   \n",
       "000005.jpg            0                 1                 0                0   \n",
       "\n",
       "            Young  \n",
       "000001.jpg      1  \n",
       "000002.jpg      1  \n",
       "000003.jpg      1  \n",
       "000004.jpg      1  \n",
       "000005.jpg      1  \n",
       "\n",
       "[5 rows x 40 columns]"
      ]
     },
     "execution_count": 14,
     "metadata": {},
     "output_type": "execute_result"
    }
   ],
   "source": [
    "import matplotlib.pyplot as plt\n",
    "import pandas as pd\n",
    "\n",
    "df_attr = pd.read_csv('/data_seoul/dain5832/cmu/summer/celebA/celeba/list_attr_celeba.txt', delim_whitespace=True, header=1)\n",
    "df_attr.replace(-1,0,inplace=True)\n",
    "df_attr.head()"
   ]
  },
  {
   "cell_type": "code",
   "execution_count": 40,
   "metadata": {},
   "outputs": [
    {
     "name": "stdout",
     "output_type": "stream",
     "text": [
      "40\n"
     ]
    },
    {
     "data": {
      "image/png": "[encoded data removed]",
      "text/plain": [
       "<Figure size 432x288 with 1 Axes>"
      ]
     },
     "metadata": {
      "needs_background": "light"
     },
     "output_type": "display_data"
    }
   ],
   "source": [
    "for (images, attr) in test_loader:\n",
    "    idx= 0\n",
    "    y_pred = model(images.to(device))\n",
    "    prediction=torch.round(torch.sigmoid(y_pred)).detach().cpu()\n",
    "\n",
    "    images=images.cpu().numpy().transpose((0,2,3,1))\n",
    "    plt.imshow(images[idx]*[0.2644, 0.2436, 0.2397]+[0.5063, 0.4258, 0.3832])\n",
    "    labels=df_attr.columns.tolist()\n",
    "    labels=labels[1:]\n",
    "    att=attr[idx].numpy()\n",
    "    prediction = prediction[idx].numpy().astype(int)\n",
    "    print(len(prediction))\n",
    "    preds = \"\"\n",
    "    for label,a in list(zip(labels,prediction)):\n",
    "        if a== 1:\n",
    "            preds+= \"\\n\"+label\n",
    "    labels=\"\\n\".join([label for label,a in list(zip(labels,att)) if a==1])\n",
    "    #preds = \"\\n\".join([label for label,a in list(zip(labels,prediction)) if a==1])\n",
    "    plt.xlabel(\"y_true:\"+labels+\"\\n\"+\"y_pred:\"+preds)\n",
    "    plt.show()\n",
    "    break"
   ]
  },
  {
   "cell_type": "code",
   "execution_count": null,
   "metadata": {},
   "outputs": [],
   "source": []
  }
 ],
 "metadata": {
  "interpreter": {
   "hash": "959e775a5f58d71888ba5956a2cf79ab671349449d00c607dcfb0a4f0a4a9287"
  },
  "kernelspec": {
   "display_name": "Python 3.9.7 ('cmu-deeplearning')",
   "language": "python",
   "name": "python3"
  },
  "language_info": {
   "codemirror_mode": {
    "name": "ipython",
    "version": 3
   },
   "file_extension": ".py",
   "mimetype": "text/x-python",
   "name": "python",
   "nbconvert_exporter": "python",
   "pygments_lexer": "ipython3",
   "version": "3.9.7"
  },
  "orig_nbformat": 4
 },
 "nbformat": 4,
 "nbformat_minor": 2
}
