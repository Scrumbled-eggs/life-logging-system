{
 "cells": [
  {
   "cell_type": "code",
   "execution_count": 6,
   "metadata": {},
   "outputs": [],
   "source": [
    "import torch.onnx \n",
    "import torch\n",
    "import torchvision\n",
    "import onnx\n",
    "\n",
    "ONNXPATH = 'actionrecognition_mc18_cuda.onnx'\n",
    "\n",
    "onnx_model = onnx.load(ONNXPATH)\n",
    "onnx.checker.check_model(onnx_model)"
   ]
  },
  {
   "cell_type": "code",
   "execution_count": 9,
   "metadata": {},
   "outputs": [
    {
     "ename": "RuntimeError",
     "evalue": "module compiled against API version 0xf but this version of numpy is 0xe",
     "output_type": "error",
     "traceback": [
      "\u001b[1;31m---------------------------------------------------------------------------\u001b[0m",
      "\u001b[1;31mRuntimeError\u001b[0m                              Traceback (most recent call last)",
      "\u001b[1;31mRuntimeError\u001b[0m: module compiled against API version 0xf but this version of numpy is 0xe"
     ]
    },
    {
     "ename": "SystemError",
     "evalue": "initialization of _driver raised unreported exception",
     "output_type": "error",
     "traceback": [
      "\u001b[1;31m---------------------------------------------------------------------------\u001b[0m",
      "\u001b[1;31mSystemError\u001b[0m                               Traceback (most recent call last)",
      "\u001b[1;32mc:\\Users\\Donghee Han\\Desktop\\CMU_program\\IITP 팀플\\workspace\\life-logging-system\\ActionRecognition\\use_pytorch\\action_recognition_test.ipynb Cell 2'\u001b[0m in \u001b[0;36m<cell line: 1>\u001b[1;34m()\u001b[0m\n\u001b[1;32m----> <a href='vscode-notebook-cell:/c%3A/Users/Donghee%20Han/Desktop/CMU_program/IITP%20%ED%8C%80%ED%94%8C/workspace/life-logging-system/ActionRecognition/use_pytorch/action_recognition_test.ipynb#ch0000001?line=0'>1</a>\u001b[0m \u001b[39mimport\u001b[39;00m \u001b[39mpycuda\u001b[39;00m\u001b[39m.\u001b[39;00m\u001b[39mdriver\u001b[39;00m \u001b[39mas\u001b[39;00m \u001b[39mcuda\u001b[39;00m\n\u001b[0;32m      <a href='vscode-notebook-cell:/c%3A/Users/Donghee%20Han/Desktop/CMU_program/IITP%20%ED%8C%80%ED%94%8C/workspace/life-logging-system/ActionRecognition/use_pytorch/action_recognition_test.ipynb#ch0000001?line=1'>2</a>\u001b[0m \u001b[39mimport\u001b[39;00m \u001b[39mpycuda\u001b[39;00m\u001b[39m.\u001b[39;00m\u001b[39mautoinit\u001b[39;00m\n",
      "File \u001b[1;32mc:\\Users\\Public\\anaconda3\\envs\\actionrecognition\\lib\\site-packages\\pycuda\\driver.py:65\u001b[0m, in \u001b[0;36m<module>\u001b[1;34m\u001b[0m\n\u001b[0;32m     61\u001b[0m \u001b[39m# }}}\u001b[39;00m\n\u001b[0;32m     64\u001b[0m \u001b[39mtry\u001b[39;00m:\n\u001b[1;32m---> 65\u001b[0m     \u001b[39mfrom\u001b[39;00m \u001b[39mpycuda\u001b[39;00m\u001b[39m.\u001b[39;00m\u001b[39m_driver\u001b[39;00m \u001b[39mimport\u001b[39;00m \u001b[39m*\u001b[39m  \u001b[39m# noqa\u001b[39;00m\n\u001b[0;32m     66\u001b[0m \u001b[39mexcept\u001b[39;00m \u001b[39mImportError\u001b[39;00m \u001b[39mas\u001b[39;00m e:\n\u001b[0;32m     67\u001b[0m     \u001b[39mif\u001b[39;00m \u001b[39m\"\u001b[39m\u001b[39m_v2\u001b[39m\u001b[39m\"\u001b[39m \u001b[39min\u001b[39;00m \u001b[39mstr\u001b[39m(e):\n",
      "\u001b[1;31mSystemError\u001b[0m: initialization of _driver raised unreported exception"
     ]
    }
   ],
   "source": [
    "import pycuda.driver as cuda\n",
    "import pycuda.autoinit\n"
   ]
  },
  {
   "cell_type": "code",
   "execution_count": null,
   "metadata": {},
   "outputs": [],
   "source": [
    "import numpy as np\n",
    "import tensorrt as trt\n",
    "# logger to capture errors, warnings, and other information during the build and inference phases\n",
    "TRT_LOGGER = trt.Logger()\n",
    "\n",
    "def build_engine(onnx_file_path):\n",
    "    # initialize TensorRT engine and parse ONNX model\n",
    "    builder = trt.Builder(TRT_LOGGER)\n",
    "    network = builder.create_network()\n",
    "    parser = trt.OnnxParser(network, TRT_LOGGER)\n",
    "    # parse ONNX\n",
    "    with open(onnx_file_path, 'rb') as model:\n",
    "        print('Beginning ONNX file parsing')\n",
    "        parser.parse(model.read())\n",
    "    print('Completed parsing of ONNX file')"
   ]
  }
 ],
 "metadata": {
  "kernelspec": {
   "display_name": "Python 3.10.4 ('actionrecognition')",
   "language": "python",
   "name": "python3"
  },
  "language_info": {
   "codemirror_mode": {
    "name": "ipython",
    "version": 3
   },
   "file_extension": ".py",
   "mimetype": "text/x-python",
   "name": "python",
   "nbconvert_exporter": "python",
   "pygments_lexer": "ipython3",
   "version": "3.10.4"
  },
  "orig_nbformat": 4,
  "vscode": {
   "interpreter": {
    "hash": "aac2e3793a396294340628031250d6cbd2ed3646eea5024a73477597cc5466a8"
   }
  }
 },
 "nbformat": 4,
 "nbformat_minor": 2
}
